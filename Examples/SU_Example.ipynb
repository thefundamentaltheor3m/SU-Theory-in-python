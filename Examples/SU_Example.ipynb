{
 "cells": [
  {
   "attachments": {},
   "cell_type": "markdown",
   "metadata": {},
   "source": [
    "# Shestakov and Umirbaev's Example\n",
    "\n",
    "In this Jupyter notebook, we investigate the example constructed by Shestakov and Umirbaev of a tame automorphism that does *not* admit an elementary reduction.\n",
    "\n",
    "This example demonstrates the inadequacy of the theory of elementary reductions in the study of tameness (or wildness) of automorphisms. Since the computations are quite involved, they are best left to `sympy`, which is the main dependency of the `SU_Theory` package that can be found [here](https://github.com/thefundamentaltheor3m/SU-Theory-in-python/tree/main).\n",
    "\n",
    "We define all our automorphisms to be `SU_Theory.Polynomial_Endomorphism` objects for the moment, as work is still being done on the `SU_Theory.Polynomial_Automorphism` object. We know they are invertible because we have shown they belong to the group of tame automorphisms.\n"
   ]
  },
  {
   "cell_type": "code",
   "execution_count": 81,
   "metadata": {},
   "outputs": [],
   "source": [
    "from SU_Theory import *\n",
    "from sympy import pi"
   ]
  },
  {
   "cell_type": "code",
   "execution_count": 2,
   "metadata": {},
   "outputs": [],
   "source": [
    "H1 = Polynomial_Endomorphism(\n",
    "    x,\n",
    "    y + x**2,\n",
    "    z + 2*x*y + x**3\n",
    ")"
   ]
  },
  {
   "attachments": {},
   "cell_type": "markdown",
   "metadata": {},
   "source": [
    "Internally, each polynomial is stored as a `Poly` object, with the \"variables\" being `x`, `y` and `z` (which are identified at the beginning of `SU_Theory.polynomial_automorphisms.py` with the respective `sympy` symbols). Note that here, `sympy` takes the default coefficient ring of all the polynomials to be $\\mathbb{Z}$. This is not a problem, because $\\operatorname{char}(k) = 0$, meaning there is a unique injective ring homomorphism from $\\mathbb{Z}$ to $k$. For example:"
   ]
  },
  {
   "cell_type": "code",
   "execution_count": 3,
   "metadata": {},
   "outputs": [
    {
     "data": {
      "text/latex": [
       "$\\displaystyle \\operatorname{Poly}{\\left( x^{2} + y, x, y, z, domain=\\mathbb{Z} \\right)}$"
      ],
      "text/plain": [
       "Poly(x**2 + y, x, y, z, domain='ZZ')"
      ]
     },
     "execution_count": 3,
     "metadata": {},
     "output_type": "execute_result"
    }
   ],
   "source": [
    "H1.polys[1]  # The second polynomial in H"
   ]
  },
  {
   "attachments": {},
   "cell_type": "markdown",
   "metadata": {},
   "source": [
    "If need be, `sympy` automatically promotes the coefficients to a higher type. As $\\mathbb{Z}$ is definitely a subring of $k$ (rather, as $k$ contains a unique subring isomorphic to $\\mathbb{Z}$), this is not a problem."
   ]
  },
  {
   "cell_type": "code",
   "execution_count": 4,
   "metadata": {},
   "outputs": [],
   "source": [
    "H2 = Polynomial_Endomorphism(\n",
    "    6*x + 6*y*z + z**3,\n",
    "    4*y + z**2,\n",
    "    z\n",
    ")"
   ]
  },
  {
   "cell_type": "code",
   "execution_count": 5,
   "metadata": {},
   "outputs": [],
   "source": [
    "H3 = Polynomial_Endomorphism(\n",
    "    x + z + x**2 - y**3,\n",
    "    y,\n",
    "    z + x**2 - y**3\n",
    ")"
   ]
  },
  {
   "cell_type": "code",
   "execution_count": 6,
   "metadata": {},
   "outputs": [],
   "source": [
    "F = H1 * H2 * H3"
   ]
  },
  {
   "cell_type": "code",
   "execution_count": 7,
   "metadata": {},
   "outputs": [
    {
     "data": {
      "text/latex": [
       "$\\displaystyle x^{9} + 6 x^{7} y + 12 x^{7} z - 12 x^{6} y^{2} + 3 x^{6} z + 8 x^{6} + 12 x^{5} y^{2} + 48 x^{5} y z + 6 x^{5} - 48 x^{4} y^{3} + 12 x^{4} y z + 24 x^{4} y + 24 x^{4} z^{2} + 8 x^{3} y^{3} + 24 x^{3} y^{2} z + 18 x^{3} y + 3 x^{3} z^{2} + 72 x^{3} z + x^{3} - 48 x^{2} y^{4} + 12 x^{2} y^{2} z - 48 x^{2} y^{2} + 48 x^{2} y z^{2} + 6 x^{2} z + 36 x^{2} - 48 x y^{3} z + 12 x y^{2} + 6 x y z^{2} + 72 x y z + 2 x y + 12 x z^{3} + 6 x - 64 y^{3} - 12 y^{2} z^{2} + 6 y z + z^{3} + z$"
      ],
      "text/plain": [
       "x**9 + 6*x**7*y + 12*x**7*z - 12*x**6*y**2 + 3*x**6*z + 8*x**6 + 12*x**5*y**2 + 48*x**5*y*z + 6*x**5 - 48*x**4*y**3 + 12*x**4*y*z + 24*x**4*y + 24*x**4*z**2 + 8*x**3*y**3 + 24*x**3*y**2*z + 18*x**3*y + 3*x**3*z**2 + 72*x**3*z + x**3 - 48*x**2*y**4 + 12*x**2*y**2*z - 48*x**2*y**2 + 48*x**2*y*z**2 + 6*x**2*z + 36*x**2 - 48*x*y**3*z + 12*x*y**2 + 6*x*y*z**2 + 72*x*y*z + 2*x*y + 12*x*z**3 + 6*x - 64*y**3 - 12*y**2*z**2 + 6*y*z + z**3 + z"
      ]
     },
     "execution_count": 7,
     "metadata": {},
     "output_type": "execute_result"
    }
   ],
   "source": [
    "F[0]"
   ]
  },
  {
   "cell_type": "code",
   "execution_count": 8,
   "metadata": {},
   "outputs": [
    {
     "data": {
      "text/latex": [
       "$\\displaystyle x^{6} + 4 x^{4} y + 2 x^{3} z + 4 x^{2} y^{2} + 4 x^{2} + 4 x y z + 4 y + z^{2}$"
      ],
      "text/plain": [
       "x**6 + 4*x**4*y + 2*x**3*z + 4*x**2*y**2 + 4*x**2 + 4*x*y*z + 4*y + z**2"
      ]
     },
     "execution_count": 8,
     "metadata": {},
     "output_type": "execute_result"
    }
   ],
   "source": [
    "F[1]"
   ]
  },
  {
   "cell_type": "code",
   "execution_count": 9,
   "metadata": {},
   "outputs": [
    {
     "data": {
      "text/latex": [
       "$\\displaystyle 12 x^{7} z - 12 x^{6} y^{2} + 8 x^{6} + 48 x^{5} y z - 48 x^{4} y^{3} + 24 x^{4} y + 24 x^{4} z^{2} + 24 x^{3} y^{2} z + 72 x^{3} z + x^{3} - 48 x^{2} y^{4} - 48 x^{2} y^{2} + 48 x^{2} y z^{2} + 36 x^{2} - 48 x y^{3} z + 72 x y z + 2 x y + 12 x z^{3} - 64 y^{3} - 12 y^{2} z^{2} + z$"
      ],
      "text/plain": [
       "12*x**7*z - 12*x**6*y**2 + 8*x**6 + 48*x**5*y*z - 48*x**4*y**3 + 24*x**4*y + 24*x**4*z**2 + 24*x**3*y**2*z + 72*x**3*z + x**3 - 48*x**2*y**4 - 48*x**2*y**2 + 48*x**2*y*z**2 + 36*x**2 - 48*x*y**3*z + 72*x*y*z + 2*x*y + 12*x*z**3 - 64*y**3 - 12*y**2*z**2 + z"
      ]
     },
     "execution_count": 9,
     "metadata": {},
     "output_type": "execute_result"
    }
   ],
   "source": [
    "F[2]"
   ]
  },
  {
   "cell_type": "code",
   "execution_count": 10,
   "metadata": {},
   "outputs": [
    {
     "data": {
      "text/plain": [
       "['x^{9} + 6 x^{7} y + 12 x^{7} z - 12 x^{6} y^{2} + 3 x^{6} z + 8 x^{6} + 12 x^{5} y^{2} + 48 x^{5} y z + 6 x^{5} - 48 x^{4} y^{3} + 12 x^{4} y z + 24 x^{4} y + 24 x^{4} z^{2} + 8 x^{3} y^{3} + 24 x^{3} y^{2} z + 18 x^{3} y + 3 x^{3} z^{2} + 72 x^{3} z + x^{3} - 48 x^{2} y^{4} + 12 x^{2} y^{2} z - 48 x^{2} y^{2} + 48 x^{2} y z^{2} + 6 x^{2} z + 36 x^{2} - 48 x y^{3} z + 12 x y^{2} + 6 x y z^{2} + 72 x y z + 2 x y + 12 x z^{3} + 6 x - 64 y^{3} - 12 y^{2} z^{2} + 6 y z + z^{3} + z',\n",
       " 'x^{6} + 4 x^{4} y + 2 x^{3} z + 4 x^{2} y^{2} + 4 x^{2} + 4 x y z + 4 y + z^{2}',\n",
       " '12 x^{7} z - 12 x^{6} y^{2} + 8 x^{6} + 48 x^{5} y z - 48 x^{4} y^{3} + 24 x^{4} y + 24 x^{4} z^{2} + 24 x^{3} y^{2} z + 72 x^{3} z + x^{3} - 48 x^{2} y^{4} - 48 x^{2} y^{2} + 48 x^{2} y z^{2} + 36 x^{2} - 48 x y^{3} z + 72 x y z + 2 x y + 12 x z^{3} - 64 y^{3} - 12 y^{2} z^{2} + z']"
      ]
     },
     "execution_count": 10,
     "metadata": {},
     "output_type": "execute_result"
    }
   ],
   "source": [
    "# For the authors' purposes:\n",
    "from sympy import latex\n",
    "[latex(p.as_expr()) for p in F]"
   ]
  },
  {
   "cell_type": "code",
   "execution_count": 91,
   "metadata": {},
   "outputs": [],
   "source": [
    "w1 = array([1, pi**10, sqrt(401)])"
   ]
  },
  {
   "cell_type": "code",
   "execution_count": 92,
   "metadata": {},
   "outputs": [
    {
     "data": {
      "text/plain": [
       "array([2 + 4*pi**10, 2 + 2*pi**10, 2 + 4*pi**10], dtype=object)"
      ]
     },
     "execution_count": 92,
     "metadata": {},
     "output_type": "execute_result"
    }
   ],
   "source": [
    "F.degs(w1)"
   ]
  },
  {
   "cell_type": "code",
   "execution_count": 93,
   "metadata": {},
   "outputs": [
    {
     "data": {
      "text/plain": [
       "array([Poly(-48*x**2*y**4, x, y, z, domain='ZZ'),\n",
       "       Poly(4*x**2*y**2, x, y, z, domain='ZZ'),\n",
       "       Poly(-48*x**2*y**4, x, y, z, domain='ZZ')], dtype=object)"
      ]
     },
     "execution_count": 93,
     "metadata": {},
     "output_type": "execute_result"
    }
   ],
   "source": [
    "F.w_terms(w1)"
   ]
  },
  {
   "cell_type": "code",
   "execution_count": null,
   "metadata": {},
   "outputs": [],
   "source": []
  }
 ],
 "metadata": {
  "kernelspec": {
   "display_name": "SU_venv",
   "language": "python",
   "name": "python3"
  },
  "language_info": {
   "codemirror_mode": {
    "name": "ipython",
    "version": 3
   },
   "file_extension": ".py",
   "mimetype": "text/x-python",
   "name": "python",
   "nbconvert_exporter": "python",
   "pygments_lexer": "ipython3",
   "version": "3.11.0"
  },
  "orig_nbformat": 4
 },
 "nbformat": 4,
 "nbformat_minor": 2
}
