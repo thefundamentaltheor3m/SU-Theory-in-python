{
 "cells": [
  {
   "attachments": {},
   "cell_type": "markdown",
   "metadata": {},
   "source": [
    "# Shestakov and Umirbaev's Example\n",
    "\n",
    "In this Jupyter notebook, we investigate the example constructed by Shestakov and Umirbaev of a tame automorphism that does *not* admit an elementary reduction.\n",
    "\n",
    "This example demonstrates the inadequacy of the theory of elementary reductions in the study of tameness (or wildness) of automorphisms. Since the computations are quite involved, they are best left to `sympy`, which is the main dependency of the `SU_Theory` package that can be found [here](https://github.com/thefundamentaltheor3m/SU-Theory-in-python/tree/main)."
   ]
  },
  {
   "cell_type": "code",
   "execution_count": 4,
   "metadata": {},
   "outputs": [],
   "source": [
    "from SU_Theory import *"
   ]
  },
  {
   "cell_type": "code",
   "execution_count": 5,
   "metadata": {},
   "outputs": [
    {
     "ename": "AttributeError",
     "evalue": "'Polynomial_Automorphism' object has no attribute 'as_expr'",
     "output_type": "error",
     "traceback": [
      "\u001b[0;31m---------------------------------------------------------------------------\u001b[0m",
      "\u001b[0;31mAttributeError\u001b[0m                            Traceback (most recent call last)",
      "Cell \u001b[0;32mIn[5], line 1\u001b[0m\n\u001b[0;32m----> 1\u001b[0m H \u001b[39m=\u001b[39m Polynomial_Automorphism(\n\u001b[1;32m      2\u001b[0m     x,\n\u001b[1;32m      3\u001b[0m     y \u001b[39m+\u001b[39;49m x\u001b[39m*\u001b[39;49m\u001b[39m*\u001b[39;49m\u001b[39m2\u001b[39;49m,\n\u001b[1;32m      4\u001b[0m     z \u001b[39m+\u001b[39;49m \u001b[39m2\u001b[39;49m\u001b[39m*\u001b[39;49mx\u001b[39m*\u001b[39;49my \u001b[39m+\u001b[39;49m x\u001b[39m*\u001b[39;49m\u001b[39m*\u001b[39;49m\u001b[39m3\u001b[39;49m\n\u001b[1;32m      5\u001b[0m )\n",
      "File \u001b[0;32m~/Library/CloudStorage/OneDrive-ImperialCollegeLondon/Undergraduate Studies at Imperial College London/2- Year 2/Modules/2- Group Research Project [MATH50002]/SU-Theory-in-python/SU_Theory/polynomial_automorphisms.py:43\u001b[0m, in \u001b[0;36mPolynomial_Automorphism.__init__\u001b[0;34m(self, *polys)\u001b[0m\n\u001b[1;32m     42\u001b[0m \u001b[39mdef\u001b[39;00m \u001b[39m__init__\u001b[39m(\u001b[39mself\u001b[39m, \u001b[39m*\u001b[39mpolys):\n\u001b[0;32m---> 43\u001b[0m     \u001b[39msuper\u001b[39;49m()\u001b[39m.\u001b[39;49m\u001b[39m__init__\u001b[39;49m(\u001b[39mself\u001b[39;49m, \u001b[39m*\u001b[39;49mpolys)\n",
      "File \u001b[0;32m~/Library/CloudStorage/OneDrive-ImperialCollegeLondon/Undergraduate Studies at Imperial College London/2- Year 2/Modules/2- Group Research Project [MATH50002]/SU-Theory-in-python/SU_Theory/polynomial_automorphisms.py:17\u001b[0m, in \u001b[0;36mPolynomial_Endomorphism.__init__\u001b[0;34m(self, vars, *polys)\u001b[0m\n\u001b[1;32m     16\u001b[0m \u001b[39mdef\u001b[39;00m \u001b[39m__init__\u001b[39m(\u001b[39mself\u001b[39m, \u001b[39m*\u001b[39mpolys, \u001b[39mvars\u001b[39m\u001b[39m=\u001b[39m_vars):\n\u001b[0;32m---> 17\u001b[0m     \u001b[39mself\u001b[39m\u001b[39m.\u001b[39mpolys \u001b[39m=\u001b[39m array([poly(expand(p\u001b[39m.\u001b[39;49mas_expr()), gens\u001b[39m=\u001b[39;49m\u001b[39mvars\u001b[39;49m)\n\u001b[1;32m     18\u001b[0m                         \u001b[39mfor\u001b[39;49;00m p \u001b[39min\u001b[39;49;00m polys])\n",
      "File \u001b[0;32m~/Library/CloudStorage/OneDrive-ImperialCollegeLondon/Undergraduate Studies at Imperial College London/2- Year 2/Modules/2- Group Research Project [MATH50002]/SU-Theory-in-python/SU_Theory/polynomial_automorphisms.py:17\u001b[0m, in \u001b[0;36m<listcomp>\u001b[0;34m(.0)\u001b[0m\n\u001b[1;32m     16\u001b[0m \u001b[39mdef\u001b[39;00m \u001b[39m__init__\u001b[39m(\u001b[39mself\u001b[39m, \u001b[39m*\u001b[39mpolys, \u001b[39mvars\u001b[39m\u001b[39m=\u001b[39m_vars):\n\u001b[0;32m---> 17\u001b[0m     \u001b[39mself\u001b[39m\u001b[39m.\u001b[39mpolys \u001b[39m=\u001b[39m array([poly(expand(p\u001b[39m.\u001b[39;49mas_expr()), gens\u001b[39m=\u001b[39m\u001b[39mvars\u001b[39m)\n\u001b[1;32m     18\u001b[0m                         \u001b[39mfor\u001b[39;00m p \u001b[39min\u001b[39;00m polys])\n",
      "\u001b[0;31mAttributeError\u001b[0m: 'Polynomial_Automorphism' object has no attribute 'as_expr'"
     ]
    }
   ],
   "source": [
    "H = Polynomial_Automorphism(\n",
    "    x,\n",
    "    y + x**2,\n",
    "    z + 2*x*y + x**3\n",
    ")"
   ]
  },
  {
   "cell_type": "code",
   "execution_count": null,
   "metadata": {},
   "outputs": [],
   "source": []
  }
 ],
 "metadata": {
  "kernelspec": {
   "display_name": "SU_venv",
   "language": "python",
   "name": "python3"
  },
  "language_info": {
   "codemirror_mode": {
    "name": "ipython",
    "version": 3
   },
   "file_extension": ".py",
   "mimetype": "text/x-python",
   "name": "python",
   "nbconvert_exporter": "python",
   "pygments_lexer": "ipython3",
   "version": "3.11.0"
  },
  "orig_nbformat": 4
 },
 "nbformat": 4,
 "nbformat_minor": 2
}
