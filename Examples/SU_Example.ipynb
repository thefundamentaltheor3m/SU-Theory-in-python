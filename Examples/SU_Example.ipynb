{
 "cells": [
  {
   "attachments": {},
   "cell_type": "markdown",
   "metadata": {},
   "source": [
    "# Shestakov and Umirbaev's Example\n",
    "\n",
    "In this Jupyter notebook, we investigate the example constructed by Shestakov and Umirbaev of a tame automorphism that does *not* admit an elementary reduction.\n",
    "\n",
    "This example demonstrates the inadequacy of the theory of elementary reductions in the study of tameness (or wildness) of automorphisms. Since the computations are quite involved, they are best left to `sympy`, which is the main dependency of the `SU_Theory` package that can be found [here](https://github.com/thefundamentaltheor3m/SU-Theory-in-python/tree/main).\n",
    "\n",
    "We define all our automorphisms to be `SU_Theory.Polynomial_Endomorphism` objects for the moment, as work is still being done on the `SU_Theory.Polynomial_Automorphism` object. We know they are invertible because we have shown they belong to the group of tame automorphisms.\n"
   ]
  },
  {
   "cell_type": "code",
   "execution_count": 16,
   "metadata": {},
   "outputs": [],
   "source": [
    "from SU_Theory import *"
   ]
  },
  {
   "cell_type": "code",
   "execution_count": 17,
   "metadata": {},
   "outputs": [],
   "source": [
    "H1 = Polynomial_Endomorphism(\n",
    "    x,\n",
    "    y + x**2,\n",
    "    z + 2*x*y + x**3\n",
    ")"
   ]
  },
  {
   "attachments": {},
   "cell_type": "markdown",
   "metadata": {},
   "source": [
    "Internally, each polynomial is stored as a `Poly` object, with the \"variables\" being `x`, `y` and `z` (which are identified at the beginning of `SU_Theory.polynomial_automorphisms.py` with the respective `sympy` symbols). Note that here, `sympy` takes the default coefficient ring of all the polynomials to be $\\mathbb{Z}$. This is not a problem, because $\\operatorname{char}(k) = 0$, meaning there is a unique injective ring homomorphism from $\\mathbb{Z}$ to $k$. For example:"
   ]
  },
  {
   "cell_type": "code",
   "execution_count": 18,
   "metadata": {},
   "outputs": [
    {
     "data": {
      "text/latex": [
       "$\\displaystyle \\operatorname{Poly}{\\left( x^{2} + y, x, y, z, domain=\\mathbb{Z} \\right)}$"
      ],
      "text/plain": [
       "Poly(x**2 + y, x, y, z, domain='ZZ')"
      ]
     },
     "execution_count": 18,
     "metadata": {},
     "output_type": "execute_result"
    }
   ],
   "source": [
    "H1.polys[1]  # The second polynomial in H"
   ]
  },
  {
   "cell_type": "code",
   "execution_count": 19,
   "metadata": {},
   "outputs": [],
   "source": [
    "H2 = Polynomial_Endomorphism(\n",
    "    6*x + 6*y*z + z**3,\n",
    "    4*y + z**2,\n",
    "    z\n",
    ")\n",
    "\n",
    "f = x**2 - y**3\n",
    "\n",
    "H3 = Polynomial_Endomorphism(\n",
    "    x + z + f,\n",
    "    y,\n",
    "    z + f\n",
    ")"
   ]
  },
  {
   "cell_type": "code",
   "execution_count": 21,
   "metadata": {},
   "outputs": [],
   "source": [
    "F = H1 * H2 * H3"
   ]
  },
  {
   "cell_type": "code",
   "execution_count": 23,
   "metadata": {},
   "outputs": [
    {
     "data": {
      "text/latex": [
       "$\\displaystyle 2 x^{3} y + 2 x^{3} + 16 x^{2} + 12 x y + 12 x + y + z^{8} + 2 z^{3} + z^{2} + 2 z$"
      ],
      "text/plain": [
       "2*x**3*y + 2*x**3 + 16*x**2 + 12*x*y + 12*x + y + z**8 + 2*z**3 + z**2 + 2*z"
      ]
     },
     "execution_count": 23,
     "metadata": {},
     "output_type": "execute_result"
    }
   ],
   "source": [
    "F.polys[0].as_expr()"
   ]
  },
  {
   "cell_type": "code",
   "execution_count": 24,
   "metadata": {},
   "outputs": [
    {
     "data": {
      "text/latex": [
       "$\\displaystyle x^{3} + 4 x^{2} + 2 x y + y + z^{2}$"
      ],
      "text/plain": [
       "x**3 + 4*x**2 + 2*x*y + y + z**2"
      ]
     },
     "execution_count": 24,
     "metadata": {},
     "output_type": "execute_result"
    }
   ],
   "source": [
    "F.polys[1].as_expr()"
   ]
  },
  {
   "cell_type": "code",
   "execution_count": 25,
   "metadata": {},
   "outputs": [
    {
     "data": {
      "text/latex": [
       "$\\displaystyle x^{3} y + x^{3} + 10 x^{2} + 8 x y + 6 x + y + z^{8} + z^{3} + z^{2} + z$"
      ],
      "text/plain": [
       "x**3*y + x**3 + 10*x**2 + 8*x*y + 6*x + y + z**8 + z**3 + z**2 + z"
      ]
     },
     "execution_count": 25,
     "metadata": {},
     "output_type": "execute_result"
    }
   ],
   "source": [
    "F.polys[2].as_expr()"
   ]
  }
 ],
 "metadata": {
  "kernelspec": {
   "display_name": "SU_venv",
   "language": "python",
   "name": "python3"
  },
  "language_info": {
   "codemirror_mode": {
    "name": "ipython",
    "version": 3
   },
   "file_extension": ".py",
   "mimetype": "text/x-python",
   "name": "python",
   "nbconvert_exporter": "python",
   "pygments_lexer": "ipython3",
   "version": "3.11.0"
  },
  "orig_nbformat": 4
 },
 "nbformat": 4,
 "nbformat_minor": 2
}
