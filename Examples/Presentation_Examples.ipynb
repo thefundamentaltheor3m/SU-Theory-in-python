{
 "cells": [
  {
   "attachments": {},
   "cell_type": "markdown",
   "metadata": {},
   "source": [
    "# Examples for the Oral Presentation"
   ]
  },
  {
   "cell_type": "code",
   "execution_count": 1,
   "metadata": {},
   "outputs": [],
   "source": [
    "from SU_Theory import *\n",
    "from sympy import latex"
   ]
  },
  {
   "cell_type": "code",
   "execution_count": 11,
   "metadata": {},
   "outputs": [],
   "source": [
    "D1 = Polynomial_Endomorphism(\n",
    "    2*x, 3*y, 10*z\n",
    ")\n",
    "E1 = Polynomial_Endomorphism(\n",
    "    x, y + x*z, z\n",
    ")\n",
    "E2 = Polynomial_Endomorphism(\n",
    "    x, y, z + x**2 + y**2\n",
    ")"
   ]
  },
  {
   "cell_type": "code",
   "execution_count": 12,
   "metadata": {},
   "outputs": [
    {
     "data": {
      "text/latex": [
       "$\\displaystyle 2 x$"
      ],
      "text/plain": [
       "2*x"
      ]
     },
     "execution_count": 12,
     "metadata": {},
     "output_type": "execute_result"
    }
   ],
   "source": [
    "F1 = D1 * E1 * E2\n",
    "F1[0]"
   ]
  },
  {
   "cell_type": "code",
   "execution_count": 13,
   "metadata": {},
   "outputs": [
    {
     "data": {
      "text/latex": [
       "$\\displaystyle 20 x z + 3 y$"
      ],
      "text/plain": [
       "20*x*z + 3*y"
      ]
     },
     "execution_count": 13,
     "metadata": {},
     "output_type": "execute_result"
    }
   ],
   "source": [
    "F1[1]"
   ]
  },
  {
   "cell_type": "code",
   "execution_count": 14,
   "metadata": {},
   "outputs": [
    {
     "data": {
      "text/plain": [
       "'400 x^{2} z^{2} + 4 x^{2} + 120 x y z + 9 y^{2} + 10 z'"
      ]
     },
     "execution_count": 14,
     "metadata": {},
     "output_type": "execute_result"
    }
   ],
   "source": [
    "latex(F1[2])"
   ]
  },
  {
   "cell_type": "code",
   "execution_count": 15,
   "metadata": {},
   "outputs": [
    {
     "name": "stdout",
     "output_type": "stream",
     "text": [
      "\\begin{bmatrix} 2 x \\\\ 20 x z + 3 y \\\\ 400 x^{2} z^{2} + 4 x^{2} + 120 x y z + 9 y^{2} + 10 z \\end{bmatrix}\n"
     ]
    }
   ],
   "source": [
    "print(F1.tolatex())"
   ]
  },
  {
   "cell_type": "code",
   "execution_count": 16,
   "metadata": {},
   "outputs": [
    {
     "name": "stdout",
     "output_type": "stream",
     "text": [
      "\\begin{bmatrix} 2 x \\\\ 3 y \\\\ 10 z \\end{bmatrix}\n"
     ]
    }
   ],
   "source": [
    "print(D1.tolatex())"
   ]
  },
  {
   "cell_type": "code",
   "execution_count": 17,
   "metadata": {},
   "outputs": [
    {
     "name": "stdout",
     "output_type": "stream",
     "text": [
      "\\begin{bmatrix} x \\\\ x z + y \\\\ z \\end{bmatrix}\n"
     ]
    }
   ],
   "source": [
    "print(E1.tolatex())"
   ]
  },
  {
   "cell_type": "code",
   "execution_count": 18,
   "metadata": {},
   "outputs": [
    {
     "name": "stdout",
     "output_type": "stream",
     "text": [
      "\\begin{bmatrix} x \\\\ y \\\\ x^{2} + y^{2} + z \\end{bmatrix}\n"
     ]
    }
   ],
   "source": [
    "print(E2.tolatex())"
   ]
  },
  {
   "cell_type": "code",
   "execution_count": null,
   "metadata": {},
   "outputs": [],
   "source": []
  }
 ],
 "metadata": {
  "kernelspec": {
   "display_name": "SU_venv",
   "language": "python",
   "name": "python3"
  },
  "language_info": {
   "codemirror_mode": {
    "name": "ipython",
    "version": 3
   },
   "file_extension": ".py",
   "mimetype": "text/x-python",
   "name": "python",
   "nbconvert_exporter": "python",
   "pygments_lexer": "ipython3",
   "version": "3.11.0"
  },
  "orig_nbformat": 4
 },
 "nbformat": 4,
 "nbformat_minor": 2
}
