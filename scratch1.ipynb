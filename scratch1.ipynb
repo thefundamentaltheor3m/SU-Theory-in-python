{
 "cells": [
  {
   "cell_type": "code",
   "execution_count": 3,
   "metadata": {},
   "outputs": [],
   "source": [
    "from SU_Theory import *\n",
    "import sympy as sp"
   ]
  },
  {
   "cell_type": "code",
   "execution_count": 4,
   "metadata": {},
   "outputs": [],
   "source": [
    "f3 = x + z**2 + 2*z*x**3 - y**3 - 3*(y**2)*(x**2) - 3*y*x**4\n",
    "f2 = z + x**3\n",
    "f1 = y + x**2"
   ]
  },
  {
   "cell_type": "code",
   "execution_count": 5,
   "metadata": {},
   "outputs": [
    {
     "data": {
      "text/latex": [
       "$\\displaystyle - 3 x^{4} y + 2 x^{3} z - 3 x^{2} y^{2} + x - y^{3} + z^{2}$"
      ],
      "text/plain": [
       "-3*x**4*y + 2*x**3*z - 3*x**2*y**2 + x - y**3 + z**2"
      ]
     },
     "execution_count": 5,
     "metadata": {},
     "output_type": "execute_result"
    }
   ],
   "source": [
    "f3"
   ]
  },
  {
   "cell_type": "code",
   "execution_count": 6,
   "metadata": {},
   "outputs": [
    {
     "data": {
      "text/latex": [
       "$\\displaystyle x^{3} + z$"
      ],
      "text/plain": [
       "x**3 + z"
      ]
     },
     "execution_count": 6,
     "metadata": {},
     "output_type": "execute_result"
    }
   ],
   "source": [
    "f2"
   ]
  },
  {
   "cell_type": "code",
   "execution_count": 7,
   "metadata": {},
   "outputs": [
    {
     "data": {
      "text/latex": [
       "$\\displaystyle x^{2} + y$"
      ],
      "text/plain": [
       "x**2 + y"
      ]
     },
     "execution_count": 7,
     "metadata": {},
     "output_type": "execute_result"
    }
   ],
   "source": [
    "f1"
   ]
  },
  {
   "cell_type": "code",
   "execution_count": 8,
   "metadata": {},
   "outputs": [
    {
     "data": {
      "text/latex": [
       "$\\displaystyle 9 x^{8} y^{2} - 12 x^{7} y z + 18 x^{6} y^{3} + 4 x^{6} z^{2} - 12 x^{5} y^{2} z - 6 x^{5} y + 15 x^{4} y^{4} - 6 x^{4} y z^{2} + 4 x^{4} z - 4 x^{3} y^{3} z - 6 x^{3} y^{2} + 4 x^{3} z^{3} + 6 x^{2} y^{5} - 6 x^{2} y^{2} z^{2} + x^{2} - 2 x y^{3} + 2 x z^{2} + y^{6} - 2 y^{3} z^{2} + z^{4}$"
      ],
      "text/plain": [
       "9*x**8*y**2 - 12*x**7*y*z + 18*x**6*y**3 + 4*x**6*z**2 - 12*x**5*y**2*z - 6*x**5*y + 15*x**4*y**4 - 6*x**4*y*z**2 + 4*x**4*z - 4*x**3*y**3*z - 6*x**3*y**2 + 4*x**3*z**3 + 6*x**2*y**5 - 6*x**2*y**2*z**2 + x**2 - 2*x*y**3 + 2*x*z**2 + y**6 - 2*y**3*z**2 + z**4"
      ]
     },
     "execution_count": 8,
     "metadata": {},
     "output_type": "execute_result"
    }
   ],
   "source": [
    "sp.expand(f3**2)"
   ]
  },
  {
   "cell_type": "code",
   "execution_count": 9,
   "metadata": {},
   "outputs": [
    {
     "data": {
      "text/latex": [
       "$\\displaystyle 9 x^{8} y^{2} - 12 x^{7} y z + 18 x^{6} y^{3} + 4 x^{6} z^{2} - 12 x^{5} y^{2} z - 6 x^{5} y + 15 x^{4} y^{4} - 6 x^{4} y z^{2} + 3 x^{4} y + 4 x^{4} z - 4 x^{3} y^{3} z - 6 x^{3} y^{2} + 4 x^{3} z^{3} - 2 x^{3} z + 6 x^{2} y^{5} - 6 x^{2} y^{2} z^{2} + 3 x^{2} y^{2} + x^{2} - 2 x y^{3} + 2 x z^{2} - x + y^{6} - 2 y^{3} z^{2} + y^{3} + z^{4} - z^{2}$"
      ],
      "text/plain": [
       "9*x**8*y**2 - 12*x**7*y*z + 18*x**6*y**3 + 4*x**6*z**2 - 12*x**5*y**2*z - 6*x**5*y + 15*x**4*y**4 - 6*x**4*y*z**2 + 3*x**4*y + 4*x**4*z - 4*x**3*y**3*z - 6*x**3*y**2 + 4*x**3*z**3 - 2*x**3*z + 6*x**2*y**5 - 6*x**2*y**2*z**2 + 3*x**2*y**2 + x**2 - 2*x*y**3 + 2*x*z**2 - x + y**6 - 2*y**3*z**2 + y**3 + z**4 - z**2"
      ]
     },
     "execution_count": 9,
     "metadata": {},
     "output_type": "execute_result"
    }
   ],
   "source": [
    "sp.expand(f3**2 - f3)"
   ]
  },
  {
   "cell_type": "code",
   "execution_count": null,
   "metadata": {},
   "outputs": [],
   "source": []
  }
 ],
 "metadata": {
  "kernelspec": {
   "display_name": "SU_venv",
   "language": "python",
   "name": "python3"
  },
  "language_info": {
   "codemirror_mode": {
    "name": "ipython",
    "version": 3
   },
   "file_extension": ".py",
   "mimetype": "text/x-python",
   "name": "python",
   "nbconvert_exporter": "python",
   "pygments_lexer": "ipython3",
   "version": "3.11.0"
  },
  "orig_nbformat": 4
 },
 "nbformat": 4,
 "nbformat_minor": 2
}
